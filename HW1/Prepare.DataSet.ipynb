{
 "cells": [
  {
   "cell_type": "code",
   "execution_count": 17,
   "metadata": {
    "collapsed": true
   },
   "outputs": [],
   "source": [
    "import warnings\n",
    "warnings.filterwarnings(\"ignore\", message=\"numpy.dtype size changed\")\n",
    "warnings.filterwarnings(\"ignore\", message=\"numpy.ufunc size changed\")\n",
    "\n",
    "import pandas as pd\n",
    "import numpy as np\n",
    "import random\n",
    "import os\n",
    "\n",
    "from sklearn.preprocessing import StandardScaler, LabelEncoder\n",
    "from sklearn.model_selection import train_test_split, GridSearchCV, cross_val_score\n",
    "from sklearn.model_selection import learning_curve\n",
    "from sklearn.model_selection import ShuffleSplit\n",
    "\n",
    "random.seed(2019)"
   ]
  },
  {
   "cell_type": "markdown",
   "metadata": {},
   "source": [
    "# Loading dataset"
   ]
  },
  {
   "cell_type": "code",
   "execution_count": 18,
   "metadata": {},
   "outputs": [
    {
     "name": "stdout",
     "output_type": "stream",
     "text": [
      "0    1382\n",
      "1     217\n",
      "Name: quality, dtype: int64\n",
      "(1599, 12)\n",
      "(983, 12)\n",
      "(285, 12)\n",
      "(331, 12)\n"
     ]
    }
   ],
   "source": [
    "#Loading dataset\n",
    "wine = pd.read_csv('./winequality-red.csv')\n",
    "\n",
    "#Making binary classificaion for the response variable.\n",
    "#Dividing wine as good and bad by giving the limit for the quality\n",
    "bins = (2, 6.5, 8)\n",
    "group_names = ['bad', 'good']\n",
    "wine['quality'] = pd.cut(wine['quality'], bins = bins, labels = group_names)\n",
    "\n",
    "#Now lets assign a labels to our quality variable\n",
    "label_quality = LabelEncoder()\n",
    "\n",
    "#Bad becomes 0 and good becomes 1 \n",
    "wine['quality'] = label_quality.fit_transform(wine['quality'])\n",
    "\n",
    "print(wine['quality'].value_counts())\n",
    "\n",
    "#Now seperate the dataset as response variable and feature variabes\n",
    "X = wine.drop('quality', axis = 1)\n",
    "y = wine['quality']\n",
    "\n",
    "#Applying Standard scaling to get optimized result\n",
    "sc = StandardScaler()\n",
    "X  = sc.fit_transform(X)\n",
    "dataset = pd.DataFrame(X)\n",
    "\n",
    "#Combine X and y again\n",
    "transformedData = pd.concat([dataset, y], axis=1, ignore_index=True)\n",
    "print(transformedData.shape)\n",
    "\n",
    "#Split\n",
    "msk = np.random.rand(len(transformedData)) < 0.8\n",
    "train_test = transformedData[msk]\n",
    "validate   = transformedData[~msk]\n",
    "msk = np.random.rand(len(train_test)) < 0.8\n",
    "train = train_test[msk]\n",
    "test  = train_test[~msk]\n",
    "\n",
    "print(train.shape)\n",
    "print(test.shape)\n",
    "print(validate.shape)\n",
    "\n",
    "os.mkdir(\"./data\")\n",
    "train.to_csv(\"./data/wine_train.csv\", index=False, header=False)\n",
    "test.to_csv(\"./data/wine_test.csv\", index=False, header=False)\n",
    "validate.to_csv(\"./data/wine_validate.csv\", index=False, header=False)"
   ]
  },
  {
   "cell_type": "code",
   "execution_count": null,
   "metadata": {
    "collapsed": true
   },
   "outputs": [],
   "source": []
  },
  {
   "cell_type": "code",
   "execution_count": null,
   "metadata": {
    "collapsed": true
   },
   "outputs": [],
   "source": []
  },
  {
   "cell_type": "code",
   "execution_count": null,
   "metadata": {
    "collapsed": true
   },
   "outputs": [],
   "source": []
  },
  {
   "cell_type": "code",
   "execution_count": null,
   "metadata": {
    "collapsed": true
   },
   "outputs": [],
   "source": []
  },
  {
   "cell_type": "code",
   "execution_count": null,
   "metadata": {
    "collapsed": true
   },
   "outputs": [],
   "source": []
  },
  {
   "cell_type": "code",
   "execution_count": null,
   "metadata": {
    "collapsed": true
   },
   "outputs": [],
   "source": []
  }
 ],
 "metadata": {
  "kernelspec": {
   "display_name": "Python 2",
   "language": "python",
   "name": "python2"
  },
  "language_info": {
   "codemirror_mode": {
    "name": "ipython",
    "version": 2
   },
   "file_extension": ".py",
   "mimetype": "text/x-python",
   "name": "python",
   "nbconvert_exporter": "python",
   "pygments_lexer": "ipython2",
   "version": "2.7.13"
  }
 },
 "nbformat": 4,
 "nbformat_minor": 2
}
